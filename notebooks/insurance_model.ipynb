{
 "cells": [
  {
   "cell_type": "markdown",
   "metadata": {},
   "source": [
    "# Environment"
   ]
  },
  {
   "cell_type": "markdown",
   "metadata": {},
   "source": [
    "## Libraries"
   ]
  },
  {
   "cell_type": "code",
   "execution_count": 3,
   "metadata": {},
   "outputs": [],
   "source": [
    "# Base libraries\n",
    "import numpy as np\n",
    "import pandas as pd\n",
    "\n",
    "# Visualization libraries\n",
    "import matplotlib.pyplot as plt\n",
    "plt.rcParams[\"figure.figsize\"] = (12,8)\n",
    "import seaborn as sns\n",
    "sns.set_palette('Set2')\n",
    "\n",
    "# Sklearn models\n",
    "from sklearn.tree import DecisionTreeRegressor\n",
    "from sklearn.model_selection import train_test_split\n",
    "\n",
    "# Bonus\n",
    "import warnings\n",
    "warnings.filterwarnings('ignore')"
   ]
  },
  {
   "cell_type": "markdown",
   "metadata": {},
   "source": [
    "## Data Extraction"
   ]
  },
  {
   "cell_type": "code",
   "execution_count": 64,
   "metadata": {},
   "outputs": [],
   "source": [
    "df_aprilia = pd.read_csv('../data/dataset_aprilia.csv')\n",
    "\n",
    "df_honda_CB = pd.read_csv('../data/dataset_honda_CB.csv')\n",
    "df_honda_Forza = pd.read_csv('../data/dataset_honda_Forza.csv')\n",
    "\n",
    "df_piaggio = pd.read_csv('../data/dataset_piaggio.csv')\n",
    "\n",
    "df_yamaha = pd.read_csv('../data/dataset_yamaha.csv')"
   ]
  },
  {
   "cell_type": "code",
   "execution_count": 65,
   "metadata": {},
   "outputs": [
    {
     "data": {
      "text/html": [
       "<div>\n",
       "<style scoped>\n",
       "    .dataframe tbody tr th:only-of-type {\n",
       "        vertical-align: middle;\n",
       "    }\n",
       "\n",
       "    .dataframe tbody tr th {\n",
       "        vertical-align: top;\n",
       "    }\n",
       "\n",
       "    .dataframe thead th {\n",
       "        text-align: right;\n",
       "    }\n",
       "</style>\n",
       "<table border=\"1\" class=\"dataframe\">\n",
       "  <thead>\n",
       "    <tr style=\"text-align: right;\">\n",
       "      <th></th>\n",
       "      <th></th>\n",
       "      <th></th>\n",
       "      <th>Cilindrada</th>\n",
       "      <th>Potencia</th>\n",
       "      <th>Tipo carnet</th>\n",
       "      <th>Tipo seguro</th>\n",
       "      <th>Precio mínimo</th>\n",
       "    </tr>\n",
       "    <tr>\n",
       "      <th>Marca</th>\n",
       "      <th>Modelo</th>\n",
       "      <th>Versión</th>\n",
       "      <th></th>\n",
       "      <th></th>\n",
       "      <th></th>\n",
       "      <th></th>\n",
       "      <th></th>\n",
       "    </tr>\n",
       "  </thead>\n",
       "  <tbody>\n",
       "    <tr>\n",
       "      <th rowspan=\"5\" valign=\"top\">APRILIA</th>\n",
       "      <th rowspan=\"3\" valign=\"top\">SR 50</th>\n",
       "      <th>SR 50 MOTARD</th>\n",
       "      <td>1</td>\n",
       "      <td>1</td>\n",
       "      <td>3</td>\n",
       "      <td>3</td>\n",
       "      <td>121</td>\n",
       "    </tr>\n",
       "    <tr>\n",
       "      <th>SR 50 R</th>\n",
       "      <td>1</td>\n",
       "      <td>1</td>\n",
       "      <td>3</td>\n",
       "      <td>3</td>\n",
       "      <td>124</td>\n",
       "    </tr>\n",
       "    <tr>\n",
       "      <th>SR 50 R GP REPLICA</th>\n",
       "      <td>1</td>\n",
       "      <td>1</td>\n",
       "      <td>3</td>\n",
       "      <td>3</td>\n",
       "      <td>143</td>\n",
       "    </tr>\n",
       "    <tr>\n",
       "      <th>SX</th>\n",
       "      <th>SX 125 ABS</th>\n",
       "      <td>1</td>\n",
       "      <td>1</td>\n",
       "      <td>2</td>\n",
       "      <td>4</td>\n",
       "      <td>84</td>\n",
       "    </tr>\n",
       "    <tr>\n",
       "      <th>TUONO</th>\n",
       "      <th>TUONO 125 V4 ABS</th>\n",
       "      <td>1</td>\n",
       "      <td>1</td>\n",
       "      <td>2</td>\n",
       "      <td>4</td>\n",
       "      <td>84</td>\n",
       "    </tr>\n",
       "  </tbody>\n",
       "</table>\n",
       "</div>"
      ],
      "text/plain": [
       "                                   Cilindrada  Potencia  Tipo carnet  \\\n",
       "Marca   Modelo Versión                                                 \n",
       "APRILIA SR 50  SR 50 MOTARD                 1         1            3   \n",
       "               SR 50 R                      1         1            3   \n",
       "               SR 50 R GP REPLICA           1         1            3   \n",
       "        SX     SX 125 ABS                   1         1            2   \n",
       "        TUONO  TUONO 125 V4 ABS             1         1            2   \n",
       "\n",
       "                                   Tipo seguro  Precio mínimo  \n",
       "Marca   Modelo Versión                                         \n",
       "APRILIA SR 50  SR 50 MOTARD                  3            121  \n",
       "               SR 50 R                       3            124  \n",
       "               SR 50 R GP REPLICA            3            143  \n",
       "        SX     SX 125 ABS                    4             84  \n",
       "        TUONO  TUONO 125 V4 ABS              4             84  "
      ]
     },
     "execution_count": 65,
     "metadata": {},
     "output_type": "execute_result"
    }
   ],
   "source": [
    "df_aprilia.select_dtypes(object).groupby(['Marca','Modelo','Versión']).agg('nunique')"
   ]
  },
  {
   "cell_type": "code",
   "execution_count": 5,
   "metadata": {},
   "outputs": [
    {
     "data": {
      "text/html": [
       "<div>\n",
       "<style scoped>\n",
       "    .dataframe tbody tr th:only-of-type {\n",
       "        vertical-align: middle;\n",
       "    }\n",
       "\n",
       "    .dataframe tbody tr th {\n",
       "        vertical-align: top;\n",
       "    }\n",
       "\n",
       "    .dataframe thead th {\n",
       "        text-align: right;\n",
       "    }\n",
       "</style>\n",
       "<table border=\"1\" class=\"dataframe\">\n",
       "  <thead>\n",
       "    <tr style=\"text-align: right;\">\n",
       "      <th></th>\n",
       "      <th>Marca</th>\n",
       "      <th>Modelo</th>\n",
       "      <th>Cilindrada</th>\n",
       "      <th>Versión</th>\n",
       "      <th>Potencia</th>\n",
       "      <th>Año lanzamiento</th>\n",
       "      <th>Año matriculación</th>\n",
       "      <th>Edad actual</th>\n",
       "      <th>Código postal</th>\n",
       "      <th>Tipo carnet</th>\n",
       "      <th>Edad carnet</th>\n",
       "      <th>Tipo seguro</th>\n",
       "      <th>Precio mínimo</th>\n",
       "    </tr>\n",
       "  </thead>\n",
       "  <tbody>\n",
       "    <tr>\n",
       "      <th>0</th>\n",
       "      <td>HONDA</td>\n",
       "      <td>CB 125</td>\n",
       "      <td>124 cc</td>\n",
       "      <td>CB 125 F</td>\n",
       "      <td>11 CV</td>\n",
       "      <td>2021</td>\n",
       "      <td>2021</td>\n",
       "      <td>19</td>\n",
       "      <td>8001</td>\n",
       "      <td>A1 (para conducir motos de hasta 125cc)</td>\n",
       "      <td>19</td>\n",
       "      <td>Terceros sin asistencia en viaje</td>\n",
       "      <td>378€</td>\n",
       "    </tr>\n",
       "    <tr>\n",
       "      <th>1</th>\n",
       "      <td>HONDA</td>\n",
       "      <td>CB 125</td>\n",
       "      <td>124 cc</td>\n",
       "      <td>CB 125 F</td>\n",
       "      <td>11 CV</td>\n",
       "      <td>2021</td>\n",
       "      <td>2021</td>\n",
       "      <td>19</td>\n",
       "      <td>8001</td>\n",
       "      <td>A1 (para conducir motos de hasta 125cc)</td>\n",
       "      <td>19</td>\n",
       "      <td>Terceros con asistencia en viaje</td>\n",
       "      <td>395€</td>\n",
       "    </tr>\n",
       "    <tr>\n",
       "      <th>2</th>\n",
       "      <td>HONDA</td>\n",
       "      <td>CB 125</td>\n",
       "      <td>124 cc</td>\n",
       "      <td>CB 125 F</td>\n",
       "      <td>11 CV</td>\n",
       "      <td>2021</td>\n",
       "      <td>2021</td>\n",
       "      <td>19</td>\n",
       "      <td>8001</td>\n",
       "      <td>A1 (para conducir motos de hasta 125cc)</td>\n",
       "      <td>19</td>\n",
       "      <td>Terceros ampliado</td>\n",
       "      <td>711€</td>\n",
       "    </tr>\n",
       "    <tr>\n",
       "      <th>3</th>\n",
       "      <td>HONDA</td>\n",
       "      <td>CB 125</td>\n",
       "      <td>124 cc</td>\n",
       "      <td>CB 125 F</td>\n",
       "      <td>11 CV</td>\n",
       "      <td>2021</td>\n",
       "      <td>2021</td>\n",
       "      <td>19</td>\n",
       "      <td>8001</td>\n",
       "      <td>A1 (para conducir motos de hasta 125cc)</td>\n",
       "      <td>19</td>\n",
       "      <td>Todo riesgo con franquicia</td>\n",
       "      <td>1.288€</td>\n",
       "    </tr>\n",
       "    <tr>\n",
       "      <th>4</th>\n",
       "      <td>HONDA</td>\n",
       "      <td>CB 125</td>\n",
       "      <td>124 cc</td>\n",
       "      <td>CB 125 F</td>\n",
       "      <td>11 CV</td>\n",
       "      <td>2021</td>\n",
       "      <td>2021</td>\n",
       "      <td>19</td>\n",
       "      <td>8001</td>\n",
       "      <td>A2 (para motos de hasta 35kw y 0,2 kw/kg o mot...</td>\n",
       "      <td>19</td>\n",
       "      <td>Terceros sin asistencia en viaje</td>\n",
       "      <td>318€</td>\n",
       "    </tr>\n",
       "    <tr>\n",
       "      <th>...</th>\n",
       "      <td>...</td>\n",
       "      <td>...</td>\n",
       "      <td>...</td>\n",
       "      <td>...</td>\n",
       "      <td>...</td>\n",
       "      <td>...</td>\n",
       "      <td>...</td>\n",
       "      <td>...</td>\n",
       "      <td>...</td>\n",
       "      <td>...</td>\n",
       "      <td>...</td>\n",
       "      <td>...</td>\n",
       "      <td>...</td>\n",
       "    </tr>\n",
       "    <tr>\n",
       "      <th>2768</th>\n",
       "      <td>APRILIA</td>\n",
       "      <td>TUONO</td>\n",
       "      <td>124 cc</td>\n",
       "      <td>TUONO 125 V4 ABS</td>\n",
       "      <td>14 CV</td>\n",
       "      <td>2020</td>\n",
       "      <td>2020</td>\n",
       "      <td>26</td>\n",
       "      <td>28001</td>\n",
       "      <td>A2 (para motos de hasta 35kw y 0,2 kw/kg o mot...</td>\n",
       "      <td>23</td>\n",
       "      <td>Todo riesgo con franquicia</td>\n",
       "      <td>521€</td>\n",
       "    </tr>\n",
       "    <tr>\n",
       "      <th>2769</th>\n",
       "      <td>APRILIA</td>\n",
       "      <td>TUONO</td>\n",
       "      <td>124 cc</td>\n",
       "      <td>TUONO 125 V4 ABS</td>\n",
       "      <td>14 CV</td>\n",
       "      <td>2020</td>\n",
       "      <td>2020</td>\n",
       "      <td>26</td>\n",
       "      <td>28001</td>\n",
       "      <td>A2 (para motos de hasta 35kw y 0,2 kw/kg o mot...</td>\n",
       "      <td>19</td>\n",
       "      <td>Terceros sin asistencia en viaje</td>\n",
       "      <td>121€</td>\n",
       "    </tr>\n",
       "    <tr>\n",
       "      <th>2770</th>\n",
       "      <td>APRILIA</td>\n",
       "      <td>TUONO</td>\n",
       "      <td>124 cc</td>\n",
       "      <td>TUONO 125 V4 ABS</td>\n",
       "      <td>14 CV</td>\n",
       "      <td>2020</td>\n",
       "      <td>2020</td>\n",
       "      <td>26</td>\n",
       "      <td>28001</td>\n",
       "      <td>A2 (para motos de hasta 35kw y 0,2 kw/kg o mot...</td>\n",
       "      <td>19</td>\n",
       "      <td>Terceros con asistencia en viaje</td>\n",
       "      <td>138€</td>\n",
       "    </tr>\n",
       "    <tr>\n",
       "      <th>2771</th>\n",
       "      <td>APRILIA</td>\n",
       "      <td>TUONO</td>\n",
       "      <td>124 cc</td>\n",
       "      <td>TUONO 125 V4 ABS</td>\n",
       "      <td>14 CV</td>\n",
       "      <td>2020</td>\n",
       "      <td>2020</td>\n",
       "      <td>26</td>\n",
       "      <td>28001</td>\n",
       "      <td>A2 (para motos de hasta 35kw y 0,2 kw/kg o mot...</td>\n",
       "      <td>19</td>\n",
       "      <td>Terceros ampliado</td>\n",
       "      <td>232€</td>\n",
       "    </tr>\n",
       "    <tr>\n",
       "      <th>2772</th>\n",
       "      <td>APRILIA</td>\n",
       "      <td>TUONO</td>\n",
       "      <td>124 cc</td>\n",
       "      <td>TUONO 125 V4 ABS</td>\n",
       "      <td>14 CV</td>\n",
       "      <td>2020</td>\n",
       "      <td>2020</td>\n",
       "      <td>26</td>\n",
       "      <td>28001</td>\n",
       "      <td>A2 (para motos de hasta 35kw y 0,2 kw/kg o mot...</td>\n",
       "      <td>19</td>\n",
       "      <td>Todo riesgo con franquicia</td>\n",
       "      <td>411€</td>\n",
       "    </tr>\n",
       "  </tbody>\n",
       "</table>\n",
       "<p>2773 rows × 13 columns</p>\n",
       "</div>"
      ],
      "text/plain": [
       "        Marca  Modelo Cilindrada           Versión Potencia  Año lanzamiento  \\\n",
       "0       HONDA  CB 125     124 cc          CB 125 F    11 CV             2021   \n",
       "1       HONDA  CB 125     124 cc          CB 125 F    11 CV             2021   \n",
       "2       HONDA  CB 125     124 cc          CB 125 F    11 CV             2021   \n",
       "3       HONDA  CB 125     124 cc          CB 125 F    11 CV             2021   \n",
       "4       HONDA  CB 125     124 cc          CB 125 F    11 CV             2021   \n",
       "...       ...     ...        ...               ...      ...              ...   \n",
       "2768  APRILIA   TUONO     124 cc  TUONO 125 V4 ABS    14 CV             2020   \n",
       "2769  APRILIA   TUONO     124 cc  TUONO 125 V4 ABS    14 CV             2020   \n",
       "2770  APRILIA   TUONO     124 cc  TUONO 125 V4 ABS    14 CV             2020   \n",
       "2771  APRILIA   TUONO     124 cc  TUONO 125 V4 ABS    14 CV             2020   \n",
       "2772  APRILIA   TUONO     124 cc  TUONO 125 V4 ABS    14 CV             2020   \n",
       "\n",
       "      Año matriculación  Edad actual  Código postal  \\\n",
       "0                  2021           19           8001   \n",
       "1                  2021           19           8001   \n",
       "2                  2021           19           8001   \n",
       "3                  2021           19           8001   \n",
       "4                  2021           19           8001   \n",
       "...                 ...          ...            ...   \n",
       "2768               2020           26          28001   \n",
       "2769               2020           26          28001   \n",
       "2770               2020           26          28001   \n",
       "2771               2020           26          28001   \n",
       "2772               2020           26          28001   \n",
       "\n",
       "                                            Tipo carnet  Edad carnet  \\\n",
       "0               A1 (para conducir motos de hasta 125cc)           19   \n",
       "1               A1 (para conducir motos de hasta 125cc)           19   \n",
       "2               A1 (para conducir motos de hasta 125cc)           19   \n",
       "3               A1 (para conducir motos de hasta 125cc)           19   \n",
       "4     A2 (para motos de hasta 35kw y 0,2 kw/kg o mot...           19   \n",
       "...                                                 ...          ...   \n",
       "2768  A2 (para motos de hasta 35kw y 0,2 kw/kg o mot...           23   \n",
       "2769  A2 (para motos de hasta 35kw y 0,2 kw/kg o mot...           19   \n",
       "2770  A2 (para motos de hasta 35kw y 0,2 kw/kg o mot...           19   \n",
       "2771  A2 (para motos de hasta 35kw y 0,2 kw/kg o mot...           19   \n",
       "2772  A2 (para motos de hasta 35kw y 0,2 kw/kg o mot...           19   \n",
       "\n",
       "                           Tipo seguro Precio mínimo  \n",
       "0     Terceros sin asistencia en viaje          378€  \n",
       "1     Terceros con asistencia en viaje          395€  \n",
       "2                    Terceros ampliado          711€  \n",
       "3           Todo riesgo con franquicia        1.288€  \n",
       "4     Terceros sin asistencia en viaje          318€  \n",
       "...                                ...           ...  \n",
       "2768        Todo riesgo con franquicia          521€  \n",
       "2769  Terceros sin asistencia en viaje          121€  \n",
       "2770  Terceros con asistencia en viaje          138€  \n",
       "2771                 Terceros ampliado          232€  \n",
       "2772        Todo riesgo con franquicia          411€  \n",
       "\n",
       "[2773 rows x 13 columns]"
      ]
     },
     "execution_count": 5,
     "metadata": {},
     "output_type": "execute_result"
    }
   ],
   "source": [
    "df = pd.concat([df_honda_CB, df_honda_Forza,df_yamaha,df_piaggio,df_aprilia])\n",
    "df.reset_index(inplace=True)\n",
    "df.drop(['index'], axis='columns', inplace=True)\n",
    "df"
   ]
  },
  {
   "cell_type": "markdown",
   "metadata": {},
   "source": [
    "# EDA (Exploratory Data Analysis)"
   ]
  },
  {
   "cell_type": "markdown",
   "metadata": {},
   "source": [
    "## Format adjustment"
   ]
  },
  {
   "cell_type": "code",
   "execution_count": 6,
   "metadata": {},
   "outputs": [],
   "source": [
    "cilindrada = []\n",
    "for cil in df['Cilindrada']:\n",
    "    cilindrada.append(int(cil.split(' ')[0]))\n",
    "df['Cilindrada']=cilindrada"
   ]
  },
  {
   "cell_type": "code",
   "execution_count": 7,
   "metadata": {},
   "outputs": [],
   "source": [
    "potencia = []\n",
    "for pot in df['Potencia']:\n",
    "    potencia.append(int(pot.split(' ')[0]))\n",
    "df['Potencia']=potencia"
   ]
  },
  {
   "cell_type": "code",
   "execution_count": 8,
   "metadata": {},
   "outputs": [],
   "source": [
    "precio = []\n",
    "for pre in df['Precio mínimo']:\n",
    "    precio.append(int(pre[0:len(pre)-1].replace('.','')))\n",
    "df['Precio mínimo']=precio"
   ]
  },
  {
   "cell_type": "code",
   "execution_count": 9,
   "metadata": {},
   "outputs": [],
   "source": [
    "postalcode = []\n",
    "for cp in df['Código postal']:\n",
    "    if cp==28001:\n",
    "        postalcode.append('Madrid')\n",
    "    elif cp==8001:\n",
    "        postalcode.append('Barcelona')        \n",
    "    else:\n",
    "        print('error')\n",
    "df['Código postal']=postalcode"
   ]
  },
  {
   "cell_type": "markdown",
   "metadata": {},
   "source": [
    "## General view"
   ]
  },
  {
   "cell_type": "code",
   "execution_count": 10,
   "metadata": {},
   "outputs": [
    {
     "name": "stdout",
     "output_type": "stream",
     "text": [
      "<class 'pandas.core.frame.DataFrame'>\n",
      "RangeIndex: 2773 entries, 0 to 2772\n",
      "Data columns (total 13 columns):\n",
      " #   Column             Non-Null Count  Dtype \n",
      "---  ------             --------------  ----- \n",
      " 0   Marca              2773 non-null   object\n",
      " 1   Modelo             2773 non-null   object\n",
      " 2   Cilindrada         2773 non-null   int64 \n",
      " 3   Versión            2773 non-null   object\n",
      " 4   Potencia           2773 non-null   int64 \n",
      " 5   Año lanzamiento    2773 non-null   int64 \n",
      " 6   Año matriculación  2773 non-null   int64 \n",
      " 7   Edad actual        2773 non-null   int64 \n",
      " 8   Código postal      2773 non-null   object\n",
      " 9   Tipo carnet        2773 non-null   object\n",
      " 10  Edad carnet        2773 non-null   int64 \n",
      " 11  Tipo seguro        2773 non-null   object\n",
      " 12  Precio mínimo      2773 non-null   int64 \n",
      "dtypes: int64(7), object(6)\n",
      "memory usage: 281.8+ KB\n"
     ]
    }
   ],
   "source": [
    "df.info()"
   ]
  },
  {
   "cell_type": "code",
   "execution_count": 11,
   "metadata": {},
   "outputs": [
    {
     "data": {
      "text/html": [
       "<div>\n",
       "<style scoped>\n",
       "    .dataframe tbody tr th:only-of-type {\n",
       "        vertical-align: middle;\n",
       "    }\n",
       "\n",
       "    .dataframe tbody tr th {\n",
       "        vertical-align: top;\n",
       "    }\n",
       "\n",
       "    .dataframe thead th {\n",
       "        text-align: right;\n",
       "    }\n",
       "</style>\n",
       "<table border=\"1\" class=\"dataframe\">\n",
       "  <thead>\n",
       "    <tr style=\"text-align: right;\">\n",
       "      <th></th>\n",
       "      <th>Cilindrada</th>\n",
       "      <th>Potencia</th>\n",
       "      <th>Año lanzamiento</th>\n",
       "      <th>Año matriculación</th>\n",
       "      <th>Edad actual</th>\n",
       "      <th>Edad carnet</th>\n",
       "      <th>Precio mínimo</th>\n",
       "    </tr>\n",
       "  </thead>\n",
       "  <tbody>\n",
       "    <tr>\n",
       "      <th>count</th>\n",
       "      <td>2773.000000</td>\n",
       "      <td>2773.000000</td>\n",
       "      <td>2773.000000</td>\n",
       "      <td>2773.000000</td>\n",
       "      <td>2773.000000</td>\n",
       "      <td>2773.000000</td>\n",
       "      <td>2773.000000</td>\n",
       "    </tr>\n",
       "    <tr>\n",
       "      <th>mean</th>\n",
       "      <td>88.736387</td>\n",
       "      <td>8.548143</td>\n",
       "      <td>2019.323116</td>\n",
       "      <td>2019.934728</td>\n",
       "      <td>23.474937</td>\n",
       "      <td>21.319510</td>\n",
       "      <td>539.090876</td>\n",
       "    </tr>\n",
       "    <tr>\n",
       "      <th>std</th>\n",
       "      <td>37.385112</td>\n",
       "      <td>5.138024</td>\n",
       "      <td>1.090178</td>\n",
       "      <td>1.051554</td>\n",
       "      <td>2.699307</td>\n",
       "      <td>2.623357</td>\n",
       "      <td>433.370935</td>\n",
       "    </tr>\n",
       "    <tr>\n",
       "      <th>min</th>\n",
       "      <td>50.000000</td>\n",
       "      <td>3.000000</td>\n",
       "      <td>2018.000000</td>\n",
       "      <td>2018.000000</td>\n",
       "      <td>19.000000</td>\n",
       "      <td>19.000000</td>\n",
       "      <td>81.000000</td>\n",
       "    </tr>\n",
       "    <tr>\n",
       "      <th>25%</th>\n",
       "      <td>50.000000</td>\n",
       "      <td>3.000000</td>\n",
       "      <td>2018.000000</td>\n",
       "      <td>2019.000000</td>\n",
       "      <td>22.000000</td>\n",
       "      <td>19.000000</td>\n",
       "      <td>211.000000</td>\n",
       "    </tr>\n",
       "    <tr>\n",
       "      <th>50%</th>\n",
       "      <td>124.000000</td>\n",
       "      <td>8.000000</td>\n",
       "      <td>2019.000000</td>\n",
       "      <td>2020.000000</td>\n",
       "      <td>22.000000</td>\n",
       "      <td>19.000000</td>\n",
       "      <td>372.000000</td>\n",
       "    </tr>\n",
       "    <tr>\n",
       "      <th>75%</th>\n",
       "      <td>125.000000</td>\n",
       "      <td>14.000000</td>\n",
       "      <td>2020.000000</td>\n",
       "      <td>2021.000000</td>\n",
       "      <td>26.000000</td>\n",
       "      <td>23.000000</td>\n",
       "      <td>784.000000</td>\n",
       "    </tr>\n",
       "    <tr>\n",
       "      <th>max</th>\n",
       "      <td>125.000000</td>\n",
       "      <td>15.000000</td>\n",
       "      <td>2021.000000</td>\n",
       "      <td>2021.000000</td>\n",
       "      <td>26.000000</td>\n",
       "      <td>26.000000</td>\n",
       "      <td>1919.000000</td>\n",
       "    </tr>\n",
       "  </tbody>\n",
       "</table>\n",
       "</div>"
      ],
      "text/plain": [
       "        Cilindrada     Potencia  Año lanzamiento  Año matriculación  \\\n",
       "count  2773.000000  2773.000000      2773.000000        2773.000000   \n",
       "mean     88.736387     8.548143      2019.323116        2019.934728   \n",
       "std      37.385112     5.138024         1.090178           1.051554   \n",
       "min      50.000000     3.000000      2018.000000        2018.000000   \n",
       "25%      50.000000     3.000000      2018.000000        2019.000000   \n",
       "50%     124.000000     8.000000      2019.000000        2020.000000   \n",
       "75%     125.000000    14.000000      2020.000000        2021.000000   \n",
       "max     125.000000    15.000000      2021.000000        2021.000000   \n",
       "\n",
       "       Edad actual  Edad carnet  Precio mínimo  \n",
       "count  2773.000000  2773.000000    2773.000000  \n",
       "mean     23.474937    21.319510     539.090876  \n",
       "std       2.699307     2.623357     433.370935  \n",
       "min      19.000000    19.000000      81.000000  \n",
       "25%      22.000000    19.000000     211.000000  \n",
       "50%      22.000000    19.000000     372.000000  \n",
       "75%      26.000000    23.000000     784.000000  \n",
       "max      26.000000    26.000000    1919.000000  "
      ]
     },
     "execution_count": 11,
     "metadata": {},
     "output_type": "execute_result"
    }
   ],
   "source": [
    "df.describe()"
   ]
  },
  {
   "cell_type": "code",
   "execution_count": 13,
   "metadata": {
    "scrolled": true
   },
   "outputs": [
    {
     "data": {
      "text/html": [
       "<div>\n",
       "<style scoped>\n",
       "    .dataframe tbody tr th:only-of-type {\n",
       "        vertical-align: middle;\n",
       "    }\n",
       "\n",
       "    .dataframe tbody tr th {\n",
       "        vertical-align: top;\n",
       "    }\n",
       "\n",
       "    .dataframe thead th {\n",
       "        text-align: right;\n",
       "    }\n",
       "</style>\n",
       "<table border=\"1\" class=\"dataframe\">\n",
       "  <thead>\n",
       "    <tr style=\"text-align: right;\">\n",
       "      <th></th>\n",
       "      <th></th>\n",
       "      <th></th>\n",
       "      <th>Código postal</th>\n",
       "      <th>Tipo carnet</th>\n",
       "      <th>Tipo seguro</th>\n",
       "    </tr>\n",
       "    <tr>\n",
       "      <th>Marca</th>\n",
       "      <th>Modelo</th>\n",
       "      <th>Versión</th>\n",
       "      <th></th>\n",
       "      <th></th>\n",
       "      <th></th>\n",
       "    </tr>\n",
       "  </thead>\n",
       "  <tbody>\n",
       "    <tr>\n",
       "      <th rowspan=\"5\" valign=\"top\">APRILIA</th>\n",
       "      <th rowspan=\"3\" valign=\"top\">SR 50</th>\n",
       "      <th>SR 50 MOTARD</th>\n",
       "      <td>2</td>\n",
       "      <td>3</td>\n",
       "      <td>3</td>\n",
       "    </tr>\n",
       "    <tr>\n",
       "      <th>SR 50 R</th>\n",
       "      <td>2</td>\n",
       "      <td>3</td>\n",
       "      <td>3</td>\n",
       "    </tr>\n",
       "    <tr>\n",
       "      <th>SR 50 R GP REPLICA</th>\n",
       "      <td>2</td>\n",
       "      <td>3</td>\n",
       "      <td>3</td>\n",
       "    </tr>\n",
       "    <tr>\n",
       "      <th>SX</th>\n",
       "      <th>SX 125 ABS</th>\n",
       "      <td>2</td>\n",
       "      <td>2</td>\n",
       "      <td>4</td>\n",
       "    </tr>\n",
       "    <tr>\n",
       "      <th>TUONO</th>\n",
       "      <th>TUONO 125 V4 ABS</th>\n",
       "      <td>2</td>\n",
       "      <td>2</td>\n",
       "      <td>4</td>\n",
       "    </tr>\n",
       "    <tr>\n",
       "      <th rowspan=\"4\" valign=\"top\">HONDA</th>\n",
       "      <th rowspan=\"2\" valign=\"top\">CB 125</th>\n",
       "      <th>CB 125 F</th>\n",
       "      <td>2</td>\n",
       "      <td>2</td>\n",
       "      <td>4</td>\n",
       "    </tr>\n",
       "    <tr>\n",
       "      <th>CB 125 R ABS</th>\n",
       "      <td>2</td>\n",
       "      <td>2</td>\n",
       "      <td>4</td>\n",
       "    </tr>\n",
       "    <tr>\n",
       "      <th rowspan=\"2\" valign=\"top\">FORZA</th>\n",
       "      <th>FORZA 125 ABS</th>\n",
       "      <td>2</td>\n",
       "      <td>2</td>\n",
       "      <td>4</td>\n",
       "    </tr>\n",
       "    <tr>\n",
       "      <th>FORZA 125 ABS TOPBOX</th>\n",
       "      <td>2</td>\n",
       "      <td>2</td>\n",
       "      <td>4</td>\n",
       "    </tr>\n",
       "    <tr>\n",
       "      <th rowspan=\"5\" valign=\"top\">PIAGGIO</th>\n",
       "      <th rowspan=\"4\" valign=\"top\">APE</th>\n",
       "      <th>APE 50 CROSS</th>\n",
       "      <td>2</td>\n",
       "      <td>3</td>\n",
       "      <td>3</td>\n",
       "    </tr>\n",
       "    <tr>\n",
       "      <th>APE 50 FURGON</th>\n",
       "      <td>2</td>\n",
       "      <td>3</td>\n",
       "      <td>3</td>\n",
       "    </tr>\n",
       "    <tr>\n",
       "      <th>APE 50 PLATAFORMA C</th>\n",
       "      <td>2</td>\n",
       "      <td>3</td>\n",
       "      <td>3</td>\n",
       "    </tr>\n",
       "    <tr>\n",
       "      <th>APE 50 PLATAFORMA L</th>\n",
       "      <td>2</td>\n",
       "      <td>3</td>\n",
       "      <td>3</td>\n",
       "    </tr>\n",
       "    <tr>\n",
       "      <th>LIBERTY 125</th>\n",
       "      <th>LIBERTY 125 S I-GET ABS</th>\n",
       "      <td>2</td>\n",
       "      <td>2</td>\n",
       "      <td>4</td>\n",
       "    </tr>\n",
       "    <tr>\n",
       "      <th rowspan=\"5\" valign=\"top\">YAMAHA</th>\n",
       "      <th>DELIGHT</th>\n",
       "      <th>DELIGHT 125</th>\n",
       "      <td>2</td>\n",
       "      <td>2</td>\n",
       "      <td>4</td>\n",
       "    </tr>\n",
       "    <tr>\n",
       "      <th rowspan=\"4\" valign=\"top\">X-MAX</th>\n",
       "      <th>X-MAX 125</th>\n",
       "      <td>2</td>\n",
       "      <td>2</td>\n",
       "      <td>4</td>\n",
       "    </tr>\n",
       "    <tr>\n",
       "      <th>X-MAX 125 IRON MAX ABS</th>\n",
       "      <td>2</td>\n",
       "      <td>2</td>\n",
       "      <td>4</td>\n",
       "    </tr>\n",
       "    <tr>\n",
       "      <th>X-MAX 125 TECH MAX</th>\n",
       "      <td>2</td>\n",
       "      <td>2</td>\n",
       "      <td>4</td>\n",
       "    </tr>\n",
       "    <tr>\n",
       "      <th>X-MAX 125 TECH MAX ABS</th>\n",
       "      <td>2</td>\n",
       "      <td>2</td>\n",
       "      <td>4</td>\n",
       "    </tr>\n",
       "  </tbody>\n",
       "</table>\n",
       "</div>"
      ],
      "text/plain": [
       "                                             Código postal  Tipo carnet  \\\n",
       "Marca   Modelo      Versión                                               \n",
       "APRILIA SR 50       SR 50 MOTARD                         2            3   \n",
       "                    SR 50 R                              2            3   \n",
       "                    SR 50 R GP REPLICA                   2            3   \n",
       "        SX          SX 125 ABS                           2            2   \n",
       "        TUONO       TUONO 125 V4 ABS                     2            2   \n",
       "HONDA   CB 125      CB 125 F                             2            2   \n",
       "                    CB 125 R ABS                         2            2   \n",
       "        FORZA       FORZA 125 ABS                        2            2   \n",
       "                    FORZA 125 ABS TOPBOX                 2            2   \n",
       "PIAGGIO APE         APE 50 CROSS                         2            3   \n",
       "                    APE 50 FURGON                        2            3   \n",
       "                    APE 50 PLATAFORMA C                  2            3   \n",
       "                    APE 50 PLATAFORMA L                  2            3   \n",
       "        LIBERTY 125 LIBERTY 125 S I-GET ABS              2            2   \n",
       "YAMAHA  DELIGHT     DELIGHT 125                          2            2   \n",
       "        X-MAX       X-MAX 125                            2            2   \n",
       "                    X-MAX 125 IRON MAX ABS               2            2   \n",
       "                    X-MAX 125 TECH MAX                   2            2   \n",
       "                    X-MAX 125 TECH MAX ABS               2            2   \n",
       "\n",
       "                                             Tipo seguro  \n",
       "Marca   Modelo      Versión                               \n",
       "APRILIA SR 50       SR 50 MOTARD                       3  \n",
       "                    SR 50 R                            3  \n",
       "                    SR 50 R GP REPLICA                 3  \n",
       "        SX          SX 125 ABS                         4  \n",
       "        TUONO       TUONO 125 V4 ABS                   4  \n",
       "HONDA   CB 125      CB 125 F                           4  \n",
       "                    CB 125 R ABS                       4  \n",
       "        FORZA       FORZA 125 ABS                      4  \n",
       "                    FORZA 125 ABS TOPBOX               4  \n",
       "PIAGGIO APE         APE 50 CROSS                       3  \n",
       "                    APE 50 FURGON                      3  \n",
       "                    APE 50 PLATAFORMA C                3  \n",
       "                    APE 50 PLATAFORMA L                3  \n",
       "        LIBERTY 125 LIBERTY 125 S I-GET ABS            4  \n",
       "YAMAHA  DELIGHT     DELIGHT 125                        4  \n",
       "        X-MAX       X-MAX 125                          4  \n",
       "                    X-MAX 125 IRON MAX ABS             4  \n",
       "                    X-MAX 125 TECH MAX                 4  \n",
       "                    X-MAX 125 TECH MAX ABS             4  "
      ]
     },
     "execution_count": 13,
     "metadata": {},
     "output_type": "execute_result"
    }
   ],
   "source": [
    "df.select_dtypes(object).groupby(['Marca','Modelo','Versión']).agg('nunique')"
   ]
  },
  {
   "cell_type": "markdown",
   "metadata": {},
   "source": [
    "## Missing values"
   ]
  },
  {
   "cell_type": "code",
   "execution_count": 17,
   "metadata": {},
   "outputs": [
    {
     "data": {
      "text/plain": [
       "<AxesSubplot:>"
      ]
     },
     "execution_count": 17,
     "metadata": {},
     "output_type": "execute_result"
    },
    {
     "data": {
      "image/png": "[encoded data removed]",
      "text/plain": [
       "<Figure size 864x576 with 1 Axes>"
      ]
     },
     "metadata": {
      "needs_background": "light"
     },
     "output_type": "display_data"
    }
   ],
   "source": [
    "sns.barplot(x=df.select_dtypes(exclude=object).columns, y=df.select_dtypes(exclude=object).count()/len(df.select_dtypes(exclude=object)))"
   ]
  },
  {
   "cell_type": "code",
   "execution_count": 18,
   "metadata": {},
   "outputs": [
    {
     "data": {
      "text/plain": [
       "<AxesSubplot:>"
      ]
     },
     "execution_count": 18,
     "metadata": {},
     "output_type": "execute_result"
    },
    {
     "data": {
      "image/png": "[encoded data removed]",
      "text/plain": [
       "<Figure size 864x576 with 1 Axes>"
      ]
     },
     "metadata": {
      "needs_background": "light"
     },
     "output_type": "display_data"
    }
   ],
   "source": [
    "sns.barplot(x=df.select_dtypes(object).columns, y=df.select_dtypes(object).count()/len(df.select_dtypes(object)))"
   ]
  },
  {
   "cell_type": "markdown",
   "metadata": {},
   "source": [
    "## Visualizations"
   ]
  },
  {
   "cell_type": "markdown",
   "metadata": {},
   "source": [
    "### Minimum price per type of insurance based on cylinder capacity "
   ]
  },
  {
   "cell_type": "code",
   "execution_count": 22,
   "metadata": {},
   "outputs": [
    {
     "data": {
      "text/plain": [
       "<AxesSubplot:xlabel='Tipo seguro', ylabel='Precio mínimo'>"
      ]
     },
     "execution_count": 22,
     "metadata": {},
     "output_type": "execute_result"
    },
    {
     "data": {
      "image/png": "[encoded data removed]",
      "text/plain": [
       "<Figure size 864x576 with 1 Axes>"
      ]
     },
     "metadata": {
      "needs_background": "light"
     },
     "output_type": "display_data"
    }
   ],
   "source": [
    "sns.boxplot(data=df,x='Tipo seguro',y='Precio mínimo', hue='Cilindrada')"
   ]
  },
  {
   "cell_type": "code",
   "execution_count": 72,
   "metadata": {},
   "outputs": [
    {
     "data": {
      "text/plain": [
       "<matplotlib.legend.Legend at 0x28c167b9e20>"
      ]
     },
     "execution_count": 72,
     "metadata": {},
     "output_type": "execute_result"
    },
    {
     "data": {
      "image/png": "[encoded data removed]",
      "text/plain": [
       "<Figure size 864x576 with 1 Axes>"
      ]
     },
     "metadata": {
      "needs_background": "light"
     },
     "output_type": "display_data"
    }
   ],
   "source": [
    "df_50 = df[df['Cilindrada']<=50].copy()\n",
    "\n",
    "sns.distplot(df_50[df_50['Tipo seguro']==\"Terceros sin asistencia en viaje\"]['Precio mínimo'], hist=False, label=\"Terceros sin asistencia en viaje\")\n",
    "sns.distplot(df_50[df_50['Tipo seguro']==\"Terceros con asistencia en viaje\"]['Precio mínimo'], hist=False, label=\"Terceros con asistencia en viaje\")\n",
    "sns.distplot(df_50[df_50['Tipo seguro']==\"Terceros ampliado\"]['Precio mínimo'], hist=False, label=\"Terceros ampliado\")\n",
    "sns.distplot(df_50[df_50['Tipo seguro']==\"Todo riesgo con franquicia\"]['Precio mínimo'], hist=False, label=\"Todo riesgo con franquicia\")\n",
    "plt.legend()"
   ]
  },
  {
   "cell_type": "code",
   "execution_count": 73,
   "metadata": {},
   "outputs": [
    {
     "data": {
      "text/plain": [
       "<matplotlib.legend.Legend at 0x28c1b19f460>"
      ]
     },
     "execution_count": 73,
     "metadata": {},
     "output_type": "execute_result"
    },
    {
     "data": {
      "image/png": "[encoded data removed]",
      "text/plain": [
       "<Figure size 864x576 with 1 Axes>"
      ]
     },
     "metadata": {
      "needs_background": "light"
     },
     "output_type": "display_data"
    }
   ],
   "source": [
    "df_125 = df[df['Cilindrada']>50].copy()\n",
    "\n",
    "sns.distplot(df_125[df_125['Tipo seguro']==\"Terceros sin asistencia en viaje\"]['Precio mínimo'], hist=False, label=\"Terceros sin asistencia en viaje\")\n",
    "sns.distplot(df_125[df_125['Tipo seguro']==\"Terceros con asistencia en viaje\"]['Precio mínimo'], hist=False, label=\"Terceros con asistencia en viaje\")\n",
    "sns.distplot(df_125[df_125['Tipo seguro']==\"Terceros ampliado\"]['Precio mínimo'], hist=False, label=\"Terceros ampliado\")\n",
    "sns.distplot(df_125[df_125['Tipo seguro']==\"Todo riesgo con franquicia\"]['Precio mínimo'], hist=False, label=\"Todo riesgo con franquicia\")\n",
    "plt.legend()"
   ]
  },
  {
   "cell_type": "markdown",
   "metadata": {},
   "source": [
    "### Minimum price per type of insurance based on the bike registration year"
   ]
  },
  {
   "cell_type": "code",
   "execution_count": 74,
   "metadata": {},
   "outputs": [
    {
     "data": {
      "text/plain": [
       "<AxesSubplot:xlabel='Tipo seguro', ylabel='Precio mínimo'>"
      ]
     },
     "execution_count": 74,
     "metadata": {},
     "output_type": "execute_result"
    },
    {
     "data": {
      "image/png": "[encoded data removed]",
      "text/plain": [
       "<Figure size 864x576 with 1 Axes>"
      ]
     },
     "metadata": {
      "needs_background": "light"
     },
     "output_type": "display_data"
    }
   ],
   "source": [
    "sns.boxplot(data=df,x='Tipo seguro',y='Precio mínimo', hue='Año matriculación')"
   ]
  },
  {
   "cell_type": "code",
   "execution_count": null,
   "metadata": {},
   "outputs": [],
   "source": []
  },
  {
   "cell_type": "code",
   "execution_count": 23,
   "metadata": {},
   "outputs": [
    {
     "data": {
      "text/plain": [
       "<AxesSubplot:xlabel='Tipo seguro', ylabel='Precio mínimo'>"
      ]
     },
     "execution_count": 23,
     "metadata": {},
     "output_type": "execute_result"
    },
    {
     "data": {
      "image/png": "[encoded data removed]",
      "text/plain": [
       "<Figure size 864x576 with 1 Axes>"
      ]
     },
     "metadata": {
      "needs_background": "light"
     },
     "output_type": "display_data"
    }
   ],
   "source": [
    "sns.boxplot(data=df,x='Tipo seguro',y='Precio mínimo', hue='Código postal')"
   ]
  },
  {
   "cell_type": "code",
   "execution_count": 24,
   "metadata": {},
   "outputs": [
    {
     "data": {
      "text/plain": [
       "<AxesSubplot:xlabel='Tipo seguro', ylabel='Precio mínimo'>"
      ]
     },
     "execution_count": 24,
     "metadata": {},
     "output_type": "execute_result"
    },
    {
     "data": {
      "image/png": "[encoded data removed]",
      "text/plain": [
       "<Figure size 864x576 with 1 Axes>"
      ]
     },
     "metadata": {
      "needs_background": "light"
     },
     "output_type": "display_data"
    }
   ],
   "source": [
    "sns.boxplot(data=df,x='Tipo seguro',y='Precio mínimo', hue='Edad actual')"
   ]
  },
  {
   "cell_type": "markdown",
   "metadata": {},
   "source": [
    "# Decision Tree Regressor Model"
   ]
  },
  {
   "cell_type": "code",
   "execution_count": 25,
   "metadata": {},
   "outputs": [
    {
     "data": {
      "text/plain": [
       "<AxesSubplot:>"
      ]
     },
     "execution_count": 25,
     "metadata": {},
     "output_type": "execute_result"
    },
    {
     "data": {
      "image/png": "[encoded data removed]",
      "text/plain": [
       "<Figure size 864x576 with 2 Axes>"
      ]
     },
     "metadata": {
      "needs_background": "light"
     },
     "output_type": "display_data"
    }
   ],
   "source": [
    "sns.heatmap(df.corr(), cmap='Blues')"
   ]
  },
  {
   "cell_type": "markdown",
   "metadata": {},
   "source": [
    "## Functions"
   ]
  },
  {
   "cell_type": "code",
   "execution_count": 26,
   "metadata": {},
   "outputs": [],
   "source": [
    "def df_X(df, insurance):\n",
    "    \n",
    "    df_model = df.copy()\n",
    "    \n",
    "    df_model['Código moto'] = df_model[\"Marca\"] + \" - \" + df_model[\"Modelo\"]\n",
    "    df_model['Tipo carnet']=df_model['Tipo carnet'].apply(lambda carnet: 3 if carnet=='A2 (para motos de hasta 35kw y 0,2 kw/kg o motos limitadas)' else (2 if carnet=='A1 (para conducir motos de hasta 125cc)' else 1))\n",
    "    df_model['Código postal']=df_model['Código postal'].apply(lambda cp: 0 if cp == 'Madrid' else (1 if cp == 'Barcelona' else 'Error'))\n",
    "    df_model['Año lanzamiento']=df_model['Año lanzamiento'].apply(lambda a: 2021 - a)\n",
    "    df_model['Año matriculación']=df_model['Año matriculación'].apply(lambda a: 2021 -a)\n",
    "                                                          \n",
    "    df_model = df_model[df_model['Tipo seguro']==insurance]\n",
    "    \n",
    "    df_mean = df_model[[\"Código moto\",\"Precio mínimo\"]].groupby(\"Código moto\").mean(\"Precio mínimo\")\n",
    "    df_model = df_model.join(df_mean, on = \"Código moto\", rsuffix = \"_código\", how = \"left\")\n",
    "    \n",
    "    X = df_model[['Cilindrada','Potencia','Año lanzamiento','Año matriculación','Código postal','Tipo carnet','Edad actual','Edad carnet','Precio mínimo_código']]\n",
    "    return X"
   ]
  },
  {
   "cell_type": "code",
   "execution_count": 27,
   "metadata": {},
   "outputs": [],
   "source": [
    "def df_y(df, insurance):\n",
    "    \n",
    "    df_model = df.copy()\n",
    "    df_model = df_model[df_model['Tipo seguro']==insurance]\n",
    "    \n",
    "    y = df_model['Precio mínimo']\n",
    "    return y"
   ]
  },
  {
   "cell_type": "markdown",
   "metadata": {},
   "source": [
    "## Terceros sin asistencia en viaje"
   ]
  },
  {
   "cell_type": "code",
   "execution_count": 28,
   "metadata": {},
   "outputs": [
    {
     "data": {
      "text/html": [
       "<div>\n",
       "<style scoped>\n",
       "    .dataframe tbody tr th:only-of-type {\n",
       "        vertical-align: middle;\n",
       "    }\n",
       "\n",
       "    .dataframe tbody tr th {\n",
       "        vertical-align: top;\n",
       "    }\n",
       "\n",
       "    .dataframe thead th {\n",
       "        text-align: right;\n",
       "    }\n",
       "</style>\n",
       "<table border=\"1\" class=\"dataframe\">\n",
       "  <thead>\n",
       "    <tr style=\"text-align: right;\">\n",
       "      <th></th>\n",
       "      <th>Cilindrada</th>\n",
       "      <th>Potencia</th>\n",
       "      <th>Año lanzamiento</th>\n",
       "      <th>Año matriculación</th>\n",
       "      <th>Código postal</th>\n",
       "      <th>Tipo carnet</th>\n",
       "      <th>Edad actual</th>\n",
       "      <th>Edad carnet</th>\n",
       "      <th>Precio mínimo_código</th>\n",
       "    </tr>\n",
       "  </thead>\n",
       "  <tbody>\n",
       "    <tr>\n",
       "      <th>0</th>\n",
       "      <td>124</td>\n",
       "      <td>11</td>\n",
       "      <td>0</td>\n",
       "      <td>0</td>\n",
       "      <td>1</td>\n",
       "      <td>2</td>\n",
       "      <td>19</td>\n",
       "      <td>19</td>\n",
       "      <td>192.83871</td>\n",
       "    </tr>\n",
       "    <tr>\n",
       "      <th>4</th>\n",
       "      <td>124</td>\n",
       "      <td>11</td>\n",
       "      <td>0</td>\n",
       "      <td>0</td>\n",
       "      <td>1</td>\n",
       "      <td>3</td>\n",
       "      <td>19</td>\n",
       "      <td>19</td>\n",
       "      <td>192.83871</td>\n",
       "    </tr>\n",
       "    <tr>\n",
       "      <th>8</th>\n",
       "      <td>124</td>\n",
       "      <td>11</td>\n",
       "      <td>0</td>\n",
       "      <td>0</td>\n",
       "      <td>0</td>\n",
       "      <td>2</td>\n",
       "      <td>19</td>\n",
       "      <td>19</td>\n",
       "      <td>192.83871</td>\n",
       "    </tr>\n",
       "    <tr>\n",
       "      <th>12</th>\n",
       "      <td>124</td>\n",
       "      <td>11</td>\n",
       "      <td>0</td>\n",
       "      <td>0</td>\n",
       "      <td>0</td>\n",
       "      <td>3</td>\n",
       "      <td>19</td>\n",
       "      <td>19</td>\n",
       "      <td>192.83871</td>\n",
       "    </tr>\n",
       "    <tr>\n",
       "      <th>16</th>\n",
       "      <td>124</td>\n",
       "      <td>11</td>\n",
       "      <td>0</td>\n",
       "      <td>0</td>\n",
       "      <td>1</td>\n",
       "      <td>2</td>\n",
       "      <td>22</td>\n",
       "      <td>22</td>\n",
       "      <td>192.83871</td>\n",
       "    </tr>\n",
       "  </tbody>\n",
       "</table>\n",
       "</div>"
      ],
      "text/plain": [
       "    Cilindrada  Potencia  Año lanzamiento  Año matriculación  Código postal  \\\n",
       "0          124        11                0                  0              1   \n",
       "4          124        11                0                  0              1   \n",
       "8          124        11                0                  0              0   \n",
       "12         124        11                0                  0              0   \n",
       "16         124        11                0                  0              1   \n",
       "\n",
       "    Tipo carnet  Edad actual  Edad carnet  Precio mínimo_código  \n",
       "0             2           19           19             192.83871  \n",
       "4             3           19           19             192.83871  \n",
       "8             2           19           19             192.83871  \n",
       "12            3           19           19             192.83871  \n",
       "16            2           22           22             192.83871  "
      ]
     },
     "execution_count": 28,
     "metadata": {},
     "output_type": "execute_result"
    }
   ],
   "source": [
    "X = df_X(df, 'Terceros sin asistencia en viaje')\n",
    "X.head(5)"
   ]
  },
  {
   "cell_type": "code",
   "execution_count": 29,
   "metadata": {},
   "outputs": [
    {
     "name": "stdout",
     "output_type": "stream",
     "text": [
      "<class 'pandas.core.frame.DataFrame'>\n",
      "Int64Index: 860 entries, 0 to 2769\n",
      "Data columns (total 9 columns):\n",
      " #   Column                Non-Null Count  Dtype  \n",
      "---  ------                --------------  -----  \n",
      " 0   Cilindrada            860 non-null    int64  \n",
      " 1   Potencia              860 non-null    int64  \n",
      " 2   Año lanzamiento       860 non-null    int64  \n",
      " 3   Año matriculación     860 non-null    int64  \n",
      " 4   Código postal         860 non-null    int64  \n",
      " 5   Tipo carnet           860 non-null    int64  \n",
      " 6   Edad actual           860 non-null    int64  \n",
      " 7   Edad carnet           860 non-null    int64  \n",
      " 8   Precio mínimo_código  860 non-null    float64\n",
      "dtypes: float64(1), int64(8)\n",
      "memory usage: 67.2 KB\n"
     ]
    }
   ],
   "source": [
    "X.info()"
   ]
  },
  {
   "cell_type": "code",
   "execution_count": 35,
   "metadata": {},
   "outputs": [],
   "source": [
    "y = df_y(df, 'Terceros sin asistencia en viaje')"
   ]
  },
  {
   "cell_type": "code",
   "execution_count": 36,
   "metadata": {},
   "outputs": [],
   "source": [
    "X_train, X_test, y_train, y_test = train_test_split(X, y, test_size=0.20,random_state=42)"
   ]
  },
  {
   "cell_type": "code",
   "execution_count": 62,
   "metadata": {},
   "outputs": [
    {
     "data": {
      "text/plain": [
       "[<matplotlib.lines.Line2D at 0x28c1a4ddbb0>]"
      ]
     },
     "execution_count": 62,
     "metadata": {},
     "output_type": "execute_result"
    },
    {
     "data": {
      "image/png": "[encoded data removed]",
      "text/plain": [
       "<Figure size 864x576 with 1 Axes>"
      ]
     },
     "metadata": {
      "needs_background": "light"
     },
     "output_type": "display_data"
    }
   ],
   "source": [
    "list_scores = []\n",
    "list_mdepth = []\n",
    "\n",
    "for i in range(1,len(X.columns)+1):    \n",
    "    regressor = DecisionTreeRegressor(max_depth=i, random_state=42)\n",
    "    model = regressor.fit(X_train, y_train)\n",
    "    score = model.score(X_test, y_test)\n",
    "    list_scores.append(score)\n",
    "    list_mdepth.append(i)\n",
    "    \n",
    "plt.plot(list_mdepth, list_scores,color='green', marker='o', linestyle='dashed', linewidth=2, markersize=12)"
   ]
  },
  {
   "cell_type": "code",
   "execution_count": 63,
   "metadata": {
    "hide_input": false
   },
   "outputs": [
    {
     "data": {
      "text/plain": [
       "0.9155220283182852"
      ]
     },
     "execution_count": 63,
     "metadata": {},
     "output_type": "execute_result"
    }
   ],
   "source": [
    "regressor = DecisionTreeRegressor(max_depth=4, random_state=42)\n",
    "model = regressor.fit(X_train, y_train)\n",
    "model.score(X_test, y_test)"
   ]
  },
  {
   "cell_type": "code",
   "execution_count": 39,
   "metadata": {},
   "outputs": [
    {
     "data": {
      "text/html": [
       "<div>\n",
       "<style scoped>\n",
       "    .dataframe tbody tr th:only-of-type {\n",
       "        vertical-align: middle;\n",
       "    }\n",
       "\n",
       "    .dataframe tbody tr th {\n",
       "        vertical-align: top;\n",
       "    }\n",
       "\n",
       "    .dataframe thead th {\n",
       "        text-align: right;\n",
       "    }\n",
       "</style>\n",
       "<table border=\"1\" class=\"dataframe\">\n",
       "  <thead>\n",
       "    <tr style=\"text-align: right;\">\n",
       "      <th></th>\n",
       "      <th>feat_importance</th>\n",
       "    </tr>\n",
       "  </thead>\n",
       "  <tbody>\n",
       "    <tr>\n",
       "      <th>Potencia</th>\n",
       "      <td>0.615321</td>\n",
       "    </tr>\n",
       "    <tr>\n",
       "      <th>Edad actual</th>\n",
       "      <td>0.304885</td>\n",
       "    </tr>\n",
       "    <tr>\n",
       "      <th>Edad carnet</th>\n",
       "      <td>0.074931</td>\n",
       "    </tr>\n",
       "    <tr>\n",
       "      <th>Código postal</th>\n",
       "      <td>0.004864</td>\n",
       "    </tr>\n",
       "  </tbody>\n",
       "</table>\n",
       "</div>"
      ],
      "text/plain": [
       "               feat_importance\n",
       "Potencia              0.615321\n",
       "Edad actual           0.304885\n",
       "Edad carnet           0.074931\n",
       "Código postal         0.004864"
      ]
     },
     "execution_count": 39,
     "metadata": {},
     "output_type": "execute_result"
    }
   ],
   "source": [
    "feat_imp = pd.DataFrame(model.feature_importances_,index=X.columns,columns = ['feat_importance']).sort_values(['feat_importance'], ascending=False)\n",
    "feat_imp[feat_imp['feat_importance']>0]"
   ]
  },
  {
   "cell_type": "markdown",
   "metadata": {},
   "source": [
    "## Terceros con asistencia en viaje"
   ]
  },
  {
   "cell_type": "code",
   "execution_count": 40,
   "metadata": {},
   "outputs": [
    {
     "data": {
      "text/html": [
       "<div>\n",
       "<style scoped>\n",
       "    .dataframe tbody tr th:only-of-type {\n",
       "        vertical-align: middle;\n",
       "    }\n",
       "\n",
       "    .dataframe tbody tr th {\n",
       "        vertical-align: top;\n",
       "    }\n",
       "\n",
       "    .dataframe thead th {\n",
       "        text-align: right;\n",
       "    }\n",
       "</style>\n",
       "<table border=\"1\" class=\"dataframe\">\n",
       "  <thead>\n",
       "    <tr style=\"text-align: right;\">\n",
       "      <th></th>\n",
       "      <th>Cilindrada</th>\n",
       "      <th>Potencia</th>\n",
       "      <th>Año lanzamiento</th>\n",
       "      <th>Año matriculación</th>\n",
       "      <th>Código postal</th>\n",
       "      <th>Tipo carnet</th>\n",
       "      <th>Edad actual</th>\n",
       "      <th>Edad carnet</th>\n",
       "      <th>Precio mínimo_código</th>\n",
       "    </tr>\n",
       "  </thead>\n",
       "  <tbody>\n",
       "    <tr>\n",
       "      <th>1</th>\n",
       "      <td>124</td>\n",
       "      <td>11</td>\n",
       "      <td>0</td>\n",
       "      <td>0</td>\n",
       "      <td>1</td>\n",
       "      <td>2</td>\n",
       "      <td>19</td>\n",
       "      <td>19</td>\n",
       "      <td>210.580645</td>\n",
       "    </tr>\n",
       "    <tr>\n",
       "      <th>5</th>\n",
       "      <td>124</td>\n",
       "      <td>11</td>\n",
       "      <td>0</td>\n",
       "      <td>0</td>\n",
       "      <td>1</td>\n",
       "      <td>3</td>\n",
       "      <td>19</td>\n",
       "      <td>19</td>\n",
       "      <td>210.580645</td>\n",
       "    </tr>\n",
       "    <tr>\n",
       "      <th>9</th>\n",
       "      <td>124</td>\n",
       "      <td>11</td>\n",
       "      <td>0</td>\n",
       "      <td>0</td>\n",
       "      <td>0</td>\n",
       "      <td>2</td>\n",
       "      <td>19</td>\n",
       "      <td>19</td>\n",
       "      <td>210.580645</td>\n",
       "    </tr>\n",
       "    <tr>\n",
       "      <th>13</th>\n",
       "      <td>124</td>\n",
       "      <td>11</td>\n",
       "      <td>0</td>\n",
       "      <td>0</td>\n",
       "      <td>0</td>\n",
       "      <td>3</td>\n",
       "      <td>19</td>\n",
       "      <td>19</td>\n",
       "      <td>210.580645</td>\n",
       "    </tr>\n",
       "    <tr>\n",
       "      <th>17</th>\n",
       "      <td>124</td>\n",
       "      <td>11</td>\n",
       "      <td>0</td>\n",
       "      <td>0</td>\n",
       "      <td>1</td>\n",
       "      <td>2</td>\n",
       "      <td>22</td>\n",
       "      <td>22</td>\n",
       "      <td>210.580645</td>\n",
       "    </tr>\n",
       "  </tbody>\n",
       "</table>\n",
       "</div>"
      ],
      "text/plain": [
       "    Cilindrada  Potencia  Año lanzamiento  Año matriculación  Código postal  \\\n",
       "1          124        11                0                  0              1   \n",
       "5          124        11                0                  0              1   \n",
       "9          124        11                0                  0              0   \n",
       "13         124        11                0                  0              0   \n",
       "17         124        11                0                  0              1   \n",
       "\n",
       "    Tipo carnet  Edad actual  Edad carnet  Precio mínimo_código  \n",
       "1             2           19           19            210.580645  \n",
       "5             3           19           19            210.580645  \n",
       "9             2           19           19            210.580645  \n",
       "13            3           19           19            210.580645  \n",
       "17            2           22           22            210.580645  "
      ]
     },
     "execution_count": 40,
     "metadata": {},
     "output_type": "execute_result"
    }
   ],
   "source": [
    "X = df_X(df, 'Terceros con asistencia en viaje')\n",
    "X.head(5)"
   ]
  },
  {
   "cell_type": "code",
   "execution_count": 41,
   "metadata": {},
   "outputs": [
    {
     "name": "stdout",
     "output_type": "stream",
     "text": [
      "<class 'pandas.core.frame.DataFrame'>\n",
      "Int64Index: 860 entries, 1 to 2770\n",
      "Data columns (total 9 columns):\n",
      " #   Column                Non-Null Count  Dtype  \n",
      "---  ------                --------------  -----  \n",
      " 0   Cilindrada            860 non-null    int64  \n",
      " 1   Potencia              860 non-null    int64  \n",
      " 2   Año lanzamiento       860 non-null    int64  \n",
      " 3   Año matriculación     860 non-null    int64  \n",
      " 4   Código postal         860 non-null    int64  \n",
      " 5   Tipo carnet           860 non-null    int64  \n",
      " 6   Edad actual           860 non-null    int64  \n",
      " 7   Edad carnet           860 non-null    int64  \n",
      " 8   Precio mínimo_código  860 non-null    float64\n",
      "dtypes: float64(1), int64(8)\n",
      "memory usage: 67.2 KB\n"
     ]
    }
   ],
   "source": [
    "X.info()"
   ]
  },
  {
   "cell_type": "code",
   "execution_count": 42,
   "metadata": {},
   "outputs": [],
   "source": [
    "y = df_y(df, 'Terceros con asistencia en viaje')"
   ]
  },
  {
   "cell_type": "code",
   "execution_count": 43,
   "metadata": {},
   "outputs": [],
   "source": [
    "X_train, X_test, y_train, y_test = train_test_split(X, y, test_size=0.20,random_state=42)"
   ]
  },
  {
   "cell_type": "code",
   "execution_count": 44,
   "metadata": {},
   "outputs": [
    {
     "data": {
      "text/plain": [
       "[<matplotlib.lines.Line2D at 0x28c19267d60>]"
      ]
     },
     "execution_count": 44,
     "metadata": {},
     "output_type": "execute_result"
    },
    {
     "data": {
      "image/png": "[encoded data removed]",
      "text/plain": [
       "<Figure size 864x576 with 1 Axes>"
      ]
     },
     "metadata": {
      "needs_background": "light"
     },
     "output_type": "display_data"
    }
   ],
   "source": [
    "list_scores = []\n",
    "list_mdepth = []\n",
    "\n",
    "for i in range(1,len(X.columns)+1):    \n",
    "    regressor = DecisionTreeRegressor(max_depth=i, random_state=42)\n",
    "    model = regressor.fit(X_train, y_train)\n",
    "    score = model.score(X_test, y_test)\n",
    "    list_scores.append(score)\n",
    "    list_mdepth.append(i)\n",
    "    \n",
    "plt.plot(list_mdepth, list_scores,color='green', marker='o', linestyle='dashed', linewidth=2, markersize=12)"
   ]
  },
  {
   "cell_type": "code",
   "execution_count": 45,
   "metadata": {},
   "outputs": [
    {
     "data": {
      "text/plain": [
       "0.9802591821165635"
      ]
     },
     "execution_count": 45,
     "metadata": {},
     "output_type": "execute_result"
    }
   ],
   "source": [
    "regressor = DecisionTreeRegressor(max_depth=4, random_state=42)\n",
    "model = regressor.fit(X_train, y_train)\n",
    "model.score(X_test, y_test)"
   ]
  },
  {
   "cell_type": "code",
   "execution_count": 46,
   "metadata": {},
   "outputs": [
    {
     "data": {
      "text/html": [
       "<div>\n",
       "<style scoped>\n",
       "    .dataframe tbody tr th:only-of-type {\n",
       "        vertical-align: middle;\n",
       "    }\n",
       "\n",
       "    .dataframe tbody tr th {\n",
       "        vertical-align: top;\n",
       "    }\n",
       "\n",
       "    .dataframe thead th {\n",
       "        text-align: right;\n",
       "    }\n",
       "</style>\n",
       "<table border=\"1\" class=\"dataframe\">\n",
       "  <thead>\n",
       "    <tr style=\"text-align: right;\">\n",
       "      <th></th>\n",
       "      <th>feat_importance</th>\n",
       "    </tr>\n",
       "  </thead>\n",
       "  <tbody>\n",
       "    <tr>\n",
       "      <th>Potencia</th>\n",
       "      <td>0.622245</td>\n",
       "    </tr>\n",
       "    <tr>\n",
       "      <th>Edad actual</th>\n",
       "      <td>0.298534</td>\n",
       "    </tr>\n",
       "    <tr>\n",
       "      <th>Edad carnet</th>\n",
       "      <td>0.074417</td>\n",
       "    </tr>\n",
       "    <tr>\n",
       "      <th>Código postal</th>\n",
       "      <td>0.004803</td>\n",
       "    </tr>\n",
       "  </tbody>\n",
       "</table>\n",
       "</div>"
      ],
      "text/plain": [
       "               feat_importance\n",
       "Potencia              0.622245\n",
       "Edad actual           0.298534\n",
       "Edad carnet           0.074417\n",
       "Código postal         0.004803"
      ]
     },
     "execution_count": 46,
     "metadata": {},
     "output_type": "execute_result"
    }
   ],
   "source": [
    "feat_imp = pd.DataFrame(model.feature_importances_,index=X.columns,columns = ['feat_importance']).sort_values(['feat_importance'], ascending=False)\n",
    "feat_imp[feat_imp['feat_importance']>0]"
   ]
  },
  {
   "cell_type": "markdown",
   "metadata": {},
   "source": [
    "## Terceros ampliado"
   ]
  },
  {
   "cell_type": "code",
   "execution_count": 47,
   "metadata": {},
   "outputs": [
    {
     "data": {
      "text/html": [
       "<div>\n",
       "<style scoped>\n",
       "    .dataframe tbody tr th:only-of-type {\n",
       "        vertical-align: middle;\n",
       "    }\n",
       "\n",
       "    .dataframe tbody tr th {\n",
       "        vertical-align: top;\n",
       "    }\n",
       "\n",
       "    .dataframe thead th {\n",
       "        text-align: right;\n",
       "    }\n",
       "</style>\n",
       "<table border=\"1\" class=\"dataframe\">\n",
       "  <thead>\n",
       "    <tr style=\"text-align: right;\">\n",
       "      <th></th>\n",
       "      <th>Cilindrada</th>\n",
       "      <th>Potencia</th>\n",
       "      <th>Año lanzamiento</th>\n",
       "      <th>Año matriculación</th>\n",
       "      <th>Código postal</th>\n",
       "      <th>Tipo carnet</th>\n",
       "      <th>Edad actual</th>\n",
       "      <th>Edad carnet</th>\n",
       "      <th>Precio mínimo_código</th>\n",
       "    </tr>\n",
       "  </thead>\n",
       "  <tbody>\n",
       "    <tr>\n",
       "      <th>2</th>\n",
       "      <td>124</td>\n",
       "      <td>11</td>\n",
       "      <td>0</td>\n",
       "      <td>0</td>\n",
       "      <td>1</td>\n",
       "      <td>2</td>\n",
       "      <td>19</td>\n",
       "      <td>19</td>\n",
       "      <td>359.150538</td>\n",
       "    </tr>\n",
       "    <tr>\n",
       "      <th>6</th>\n",
       "      <td>124</td>\n",
       "      <td>11</td>\n",
       "      <td>0</td>\n",
       "      <td>0</td>\n",
       "      <td>1</td>\n",
       "      <td>3</td>\n",
       "      <td>19</td>\n",
       "      <td>19</td>\n",
       "      <td>359.150538</td>\n",
       "    </tr>\n",
       "    <tr>\n",
       "      <th>10</th>\n",
       "      <td>124</td>\n",
       "      <td>11</td>\n",
       "      <td>0</td>\n",
       "      <td>0</td>\n",
       "      <td>0</td>\n",
       "      <td>2</td>\n",
       "      <td>19</td>\n",
       "      <td>19</td>\n",
       "      <td>359.150538</td>\n",
       "    </tr>\n",
       "    <tr>\n",
       "      <th>14</th>\n",
       "      <td>124</td>\n",
       "      <td>11</td>\n",
       "      <td>0</td>\n",
       "      <td>0</td>\n",
       "      <td>0</td>\n",
       "      <td>3</td>\n",
       "      <td>19</td>\n",
       "      <td>19</td>\n",
       "      <td>359.150538</td>\n",
       "    </tr>\n",
       "    <tr>\n",
       "      <th>18</th>\n",
       "      <td>124</td>\n",
       "      <td>11</td>\n",
       "      <td>0</td>\n",
       "      <td>0</td>\n",
       "      <td>1</td>\n",
       "      <td>2</td>\n",
       "      <td>22</td>\n",
       "      <td>22</td>\n",
       "      <td>359.150538</td>\n",
       "    </tr>\n",
       "  </tbody>\n",
       "</table>\n",
       "</div>"
      ],
      "text/plain": [
       "    Cilindrada  Potencia  Año lanzamiento  Año matriculación  Código postal  \\\n",
       "2          124        11                0                  0              1   \n",
       "6          124        11                0                  0              1   \n",
       "10         124        11                0                  0              0   \n",
       "14         124        11                0                  0              0   \n",
       "18         124        11                0                  0              1   \n",
       "\n",
       "    Tipo carnet  Edad actual  Edad carnet  Precio mínimo_código  \n",
       "2             2           19           19            359.150538  \n",
       "6             3           19           19            359.150538  \n",
       "10            2           19           19            359.150538  \n",
       "14            3           19           19            359.150538  \n",
       "18            2           22           22            359.150538  "
      ]
     },
     "execution_count": 47,
     "metadata": {},
     "output_type": "execute_result"
    }
   ],
   "source": [
    "X = df_X(df, 'Terceros ampliado')\n",
    "X.head(5)"
   ]
  },
  {
   "cell_type": "code",
   "execution_count": 48,
   "metadata": {},
   "outputs": [
    {
     "name": "stdout",
     "output_type": "stream",
     "text": [
      "<class 'pandas.core.frame.DataFrame'>\n",
      "Int64Index: 694 entries, 2 to 2771\n",
      "Data columns (total 9 columns):\n",
      " #   Column                Non-Null Count  Dtype  \n",
      "---  ------                --------------  -----  \n",
      " 0   Cilindrada            694 non-null    int64  \n",
      " 1   Potencia              694 non-null    int64  \n",
      " 2   Año lanzamiento       694 non-null    int64  \n",
      " 3   Año matriculación     694 non-null    int64  \n",
      " 4   Código postal         694 non-null    int64  \n",
      " 5   Tipo carnet           694 non-null    int64  \n",
      " 6   Edad actual           694 non-null    int64  \n",
      " 7   Edad carnet           694 non-null    int64  \n",
      " 8   Precio mínimo_código  694 non-null    float64\n",
      "dtypes: float64(1), int64(8)\n",
      "memory usage: 54.2 KB\n"
     ]
    }
   ],
   "source": [
    "X.info()"
   ]
  },
  {
   "cell_type": "code",
   "execution_count": 49,
   "metadata": {},
   "outputs": [],
   "source": [
    "y = df_y(df, 'Terceros ampliado')"
   ]
  },
  {
   "cell_type": "code",
   "execution_count": 50,
   "metadata": {},
   "outputs": [],
   "source": [
    "X_train, X_test, y_train, y_test = train_test_split(X, y, test_size=0.20,random_state=42)"
   ]
  },
  {
   "cell_type": "code",
   "execution_count": 51,
   "metadata": {},
   "outputs": [
    {
     "data": {
      "text/plain": [
       "[<matplotlib.lines.Line2D at 0x28c192ba3d0>]"
      ]
     },
     "execution_count": 51,
     "metadata": {},
     "output_type": "execute_result"
    },
    {
     "data": {
      "image/png": "[encoded data removed]",
      "text/plain": [
       "<Figure size 864x576 with 1 Axes>"
      ]
     },
     "metadata": {
      "needs_background": "light"
     },
     "output_type": "display_data"
    }
   ],
   "source": [
    "list_scores = []\n",
    "list_mdepth = []\n",
    "\n",
    "for i in range(1,len(X.columns)+1):    \n",
    "    regressor = DecisionTreeRegressor(max_depth=i, random_state=42)\n",
    "    model = regressor.fit(X_train, y_train)\n",
    "    score = model.score(X_test, y_test)\n",
    "    list_scores.append(score)\n",
    "    list_mdepth.append(i)\n",
    "    \n",
    "plt.plot(list_mdepth, list_scores,color='green', marker='o', linestyle='dashed', linewidth=2, markersize=12)"
   ]
  },
  {
   "cell_type": "code",
   "execution_count": 52,
   "metadata": {},
   "outputs": [
    {
     "data": {
      "text/plain": [
       "0.9924125206943759"
      ]
     },
     "execution_count": 52,
     "metadata": {},
     "output_type": "execute_result"
    }
   ],
   "source": [
    "regressor = DecisionTreeRegressor(max_depth=6, random_state=42)\n",
    "model = regressor.fit(X_train, y_train)\n",
    "model.score(X_test, y_test)"
   ]
  },
  {
   "cell_type": "code",
   "execution_count": 53,
   "metadata": {},
   "outputs": [
    {
     "data": {
      "text/html": [
       "<div>\n",
       "<style scoped>\n",
       "    .dataframe tbody tr th:only-of-type {\n",
       "        vertical-align: middle;\n",
       "    }\n",
       "\n",
       "    .dataframe tbody tr th {\n",
       "        vertical-align: top;\n",
       "    }\n",
       "\n",
       "    .dataframe thead th {\n",
       "        text-align: right;\n",
       "    }\n",
       "</style>\n",
       "<table border=\"1\" class=\"dataframe\">\n",
       "  <thead>\n",
       "    <tr style=\"text-align: right;\">\n",
       "      <th></th>\n",
       "      <th>feat_importance</th>\n",
       "    </tr>\n",
       "  </thead>\n",
       "  <tbody>\n",
       "    <tr>\n",
       "      <th>Potencia</th>\n",
       "      <td>5.143857e-01</td>\n",
       "    </tr>\n",
       "    <tr>\n",
       "      <th>Edad actual</th>\n",
       "      <td>3.185061e-01</td>\n",
       "    </tr>\n",
       "    <tr>\n",
       "      <th>Edad carnet</th>\n",
       "      <td>7.701070e-02</td>\n",
       "    </tr>\n",
       "    <tr>\n",
       "      <th>Precio mínimo_código</th>\n",
       "      <td>5.727440e-02</td>\n",
       "    </tr>\n",
       "    <tr>\n",
       "      <th>Código postal</th>\n",
       "      <td>3.152379e-02</td>\n",
       "    </tr>\n",
       "    <tr>\n",
       "      <th>Tipo carnet</th>\n",
       "      <td>1.283517e-03</td>\n",
       "    </tr>\n",
       "    <tr>\n",
       "      <th>Año lanzamiento</th>\n",
       "      <td>1.574100e-05</td>\n",
       "    </tr>\n",
       "    <tr>\n",
       "      <th>Año matriculación</th>\n",
       "      <td>4.733909e-08</td>\n",
       "    </tr>\n",
       "  </tbody>\n",
       "</table>\n",
       "</div>"
      ],
      "text/plain": [
       "                      feat_importance\n",
       "Potencia                 5.143857e-01\n",
       "Edad actual              3.185061e-01\n",
       "Edad carnet              7.701070e-02\n",
       "Precio mínimo_código     5.727440e-02\n",
       "Código postal            3.152379e-02\n",
       "Tipo carnet              1.283517e-03\n",
       "Año lanzamiento          1.574100e-05\n",
       "Año matriculación        4.733909e-08"
      ]
     },
     "execution_count": 53,
     "metadata": {},
     "output_type": "execute_result"
    }
   ],
   "source": [
    "feat_imp = pd.DataFrame(model.feature_importances_,index=X.columns,columns = ['feat_importance']).sort_values(['feat_importance'], ascending=False)\n",
    "feat_imp[feat_imp['feat_importance']>0]"
   ]
  },
  {
   "cell_type": "markdown",
   "metadata": {},
   "source": [
    "## Todo riesgo con franquicia"
   ]
  },
  {
   "cell_type": "code",
   "execution_count": 54,
   "metadata": {},
   "outputs": [
    {
     "data": {
      "text/html": [
       "<div>\n",
       "<style scoped>\n",
       "    .dataframe tbody tr th:only-of-type {\n",
       "        vertical-align: middle;\n",
       "    }\n",
       "\n",
       "    .dataframe tbody tr th {\n",
       "        vertical-align: top;\n",
       "    }\n",
       "\n",
       "    .dataframe thead th {\n",
       "        text-align: right;\n",
       "    }\n",
       "</style>\n",
       "<table border=\"1\" class=\"dataframe\">\n",
       "  <thead>\n",
       "    <tr style=\"text-align: right;\">\n",
       "      <th></th>\n",
       "      <th>Cilindrada</th>\n",
       "      <th>Potencia</th>\n",
       "      <th>Año lanzamiento</th>\n",
       "      <th>Año matriculación</th>\n",
       "      <th>Código postal</th>\n",
       "      <th>Tipo carnet</th>\n",
       "      <th>Edad actual</th>\n",
       "      <th>Edad carnet</th>\n",
       "      <th>Precio mínimo_código</th>\n",
       "    </tr>\n",
       "  </thead>\n",
       "  <tbody>\n",
       "    <tr>\n",
       "      <th>3</th>\n",
       "      <td>124</td>\n",
       "      <td>11</td>\n",
       "      <td>0</td>\n",
       "      <td>0</td>\n",
       "      <td>1</td>\n",
       "      <td>2</td>\n",
       "      <td>19</td>\n",
       "      <td>19</td>\n",
       "      <td>670.053763</td>\n",
       "    </tr>\n",
       "    <tr>\n",
       "      <th>7</th>\n",
       "      <td>124</td>\n",
       "      <td>11</td>\n",
       "      <td>0</td>\n",
       "      <td>0</td>\n",
       "      <td>1</td>\n",
       "      <td>3</td>\n",
       "      <td>19</td>\n",
       "      <td>19</td>\n",
       "      <td>670.053763</td>\n",
       "    </tr>\n",
       "    <tr>\n",
       "      <th>11</th>\n",
       "      <td>124</td>\n",
       "      <td>11</td>\n",
       "      <td>0</td>\n",
       "      <td>0</td>\n",
       "      <td>0</td>\n",
       "      <td>2</td>\n",
       "      <td>19</td>\n",
       "      <td>19</td>\n",
       "      <td>670.053763</td>\n",
       "    </tr>\n",
       "    <tr>\n",
       "      <th>15</th>\n",
       "      <td>124</td>\n",
       "      <td>11</td>\n",
       "      <td>0</td>\n",
       "      <td>0</td>\n",
       "      <td>0</td>\n",
       "      <td>3</td>\n",
       "      <td>19</td>\n",
       "      <td>19</td>\n",
       "      <td>670.053763</td>\n",
       "    </tr>\n",
       "    <tr>\n",
       "      <th>19</th>\n",
       "      <td>124</td>\n",
       "      <td>11</td>\n",
       "      <td>0</td>\n",
       "      <td>0</td>\n",
       "      <td>1</td>\n",
       "      <td>2</td>\n",
       "      <td>22</td>\n",
       "      <td>22</td>\n",
       "      <td>670.053763</td>\n",
       "    </tr>\n",
       "  </tbody>\n",
       "</table>\n",
       "</div>"
      ],
      "text/plain": [
       "    Cilindrada  Potencia  Año lanzamiento  Año matriculación  Código postal  \\\n",
       "3          124        11                0                  0              1   \n",
       "7          124        11                0                  0              1   \n",
       "11         124        11                0                  0              0   \n",
       "15         124        11                0                  0              0   \n",
       "19         124        11                0                  0              1   \n",
       "\n",
       "    Tipo carnet  Edad actual  Edad carnet  Precio mínimo_código  \n",
       "3             2           19           19            670.053763  \n",
       "7             3           19           19            670.053763  \n",
       "11            2           19           19            670.053763  \n",
       "15            3           19           19            670.053763  \n",
       "19            2           22           22            670.053763  "
      ]
     },
     "execution_count": 54,
     "metadata": {},
     "output_type": "execute_result"
    }
   ],
   "source": [
    "X = df_X(df, 'Todo riesgo con franquicia')\n",
    "X.head(5)"
   ]
  },
  {
   "cell_type": "code",
   "execution_count": 55,
   "metadata": {},
   "outputs": [
    {
     "name": "stdout",
     "output_type": "stream",
     "text": [
      "<class 'pandas.core.frame.DataFrame'>\n",
      "Int64Index: 359 entries, 3 to 2772\n",
      "Data columns (total 9 columns):\n",
      " #   Column                Non-Null Count  Dtype  \n",
      "---  ------                --------------  -----  \n",
      " 0   Cilindrada            359 non-null    int64  \n",
      " 1   Potencia              359 non-null    int64  \n",
      " 2   Año lanzamiento       359 non-null    int64  \n",
      " 3   Año matriculación     359 non-null    int64  \n",
      " 4   Código postal         359 non-null    int64  \n",
      " 5   Tipo carnet           359 non-null    int64  \n",
      " 6   Edad actual           359 non-null    int64  \n",
      " 7   Edad carnet           359 non-null    int64  \n",
      " 8   Precio mínimo_código  359 non-null    float64\n",
      "dtypes: float64(1), int64(8)\n",
      "memory usage: 28.0 KB\n"
     ]
    }
   ],
   "source": [
    "X.info()"
   ]
  },
  {
   "cell_type": "code",
   "execution_count": 56,
   "metadata": {},
   "outputs": [],
   "source": [
    "y = df_y(df, 'Todo riesgo con franquicia')"
   ]
  },
  {
   "cell_type": "code",
   "execution_count": 57,
   "metadata": {},
   "outputs": [],
   "source": [
    "X_train, X_test, y_train, y_test = train_test_split(X, y, test_size=0.20,random_state=42)"
   ]
  },
  {
   "cell_type": "code",
   "execution_count": 58,
   "metadata": {},
   "outputs": [
    {
     "data": {
      "text/plain": [
       "[<matplotlib.lines.Line2D at 0x28c1a4977f0>]"
      ]
     },
     "execution_count": 58,
     "metadata": {},
     "output_type": "execute_result"
    },
    {
     "data": {
      "image/png": "[encoded data removed]",
      "text/plain": [
       "<Figure size 864x576 with 1 Axes>"
      ]
     },
     "metadata": {
      "needs_background": "light"
     },
     "output_type": "display_data"
    }
   ],
   "source": [
    "list_scores = []\n",
    "list_mdepth = []\n",
    "\n",
    "for i in range(1,len(X.columns)+1):    \n",
    "    regressor = DecisionTreeRegressor(max_depth=i, random_state=42)\n",
    "    model = regressor.fit(X_train, y_train)\n",
    "    score = model.score(X_test, y_test)\n",
    "    list_scores.append(score)\n",
    "    list_mdepth.append(i)\n",
    "    \n",
    "plt.plot(list_mdepth, list_scores,color='green', marker='o', linestyle='dashed', linewidth=2, markersize=12)"
   ]
  },
  {
   "cell_type": "code",
   "execution_count": 60,
   "metadata": {},
   "outputs": [
    {
     "data": {
      "text/plain": [
       "0.9155220283182852"
      ]
     },
     "execution_count": 60,
     "metadata": {},
     "output_type": "execute_result"
    }
   ],
   "source": [
    "regressor = DecisionTreeRegressor(max_depth=4, random_state=42)\n",
    "model = regressor.fit(X_train, y_train)\n",
    "model.score(X_test, y_test)"
   ]
  },
  {
   "cell_type": "code",
   "execution_count": 61,
   "metadata": {},
   "outputs": [
    {
     "data": {
      "text/html": [
       "<div>\n",
       "<style scoped>\n",
       "    .dataframe tbody tr th:only-of-type {\n",
       "        vertical-align: middle;\n",
       "    }\n",
       "\n",
       "    .dataframe tbody tr th {\n",
       "        vertical-align: top;\n",
       "    }\n",
       "\n",
       "    .dataframe thead th {\n",
       "        text-align: right;\n",
       "    }\n",
       "</style>\n",
       "<table border=\"1\" class=\"dataframe\">\n",
       "  <thead>\n",
       "    <tr style=\"text-align: right;\">\n",
       "      <th></th>\n",
       "      <th>feat_importance</th>\n",
       "    </tr>\n",
       "  </thead>\n",
       "  <tbody>\n",
       "    <tr>\n",
       "      <th>Edad actual</th>\n",
       "      <td>0.638763</td>\n",
       "    </tr>\n",
       "    <tr>\n",
       "      <th>Edad carnet</th>\n",
       "      <td>0.255782</td>\n",
       "    </tr>\n",
       "    <tr>\n",
       "      <th>Código postal</th>\n",
       "      <td>0.078165</td>\n",
       "    </tr>\n",
       "    <tr>\n",
       "      <th>Tipo carnet</th>\n",
       "      <td>0.016461</td>\n",
       "    </tr>\n",
       "    <tr>\n",
       "      <th>Precio mínimo_código</th>\n",
       "      <td>0.010829</td>\n",
       "    </tr>\n",
       "  </tbody>\n",
       "</table>\n",
       "</div>"
      ],
      "text/plain": [
       "                      feat_importance\n",
       "Edad actual                  0.638763\n",
       "Edad carnet                  0.255782\n",
       "Código postal                0.078165\n",
       "Tipo carnet                  0.016461\n",
       "Precio mínimo_código         0.010829"
      ]
     },
     "execution_count": 61,
     "metadata": {},
     "output_type": "execute_result"
    }
   ],
   "source": [
    "feat_imp = pd.DataFrame(model.feature_importances_,index=X.columns,columns = ['feat_importance']).sort_values(['feat_importance'], ascending=False)\n",
    "feat_imp[feat_imp['feat_importance']>0]"
   ]
  },
  {
   "cell_type": "code",
   "execution_count": null,
   "metadata": {},
   "outputs": [],
   "source": []
  },
  {
   "cell_type": "code",
   "execution_count": null,
   "metadata": {},
   "outputs": [],
   "source": []
  },
  {
   "cell_type": "code",
   "execution_count": null,
   "metadata": {},
   "outputs": [],
   "source": []
  },
  {
   "cell_type": "code",
   "execution_count": null,
   "metadata": {},
   "outputs": [],
   "source": []
  },
  {
   "cell_type": "code",
   "execution_count": null,
   "metadata": {},
   "outputs": [],
   "source": []
  }
 ],
 "metadata": {
  "kernelspec": {
   "display_name": "Python 3",
   "language": "python",
   "name": "python3"
  },
  "language_info": {
   "codemirror_mode": {
    "name": "ipython",
    "version": 3
   },
   "file_extension": ".py",
   "mimetype": "text/x-python",
   "name": "python",
   "nbconvert_exporter": "python",
   "pygments_lexer": "ipython3",
   "version": "3.8.5"
  },
  "toc": {
   "base_numbering": 1,
   "nav_menu": {},
   "number_sections": true,
   "sideBar": true,
   "skip_h1_title": false,
   "title_cell": "Table of Contents",
   "title_sidebar": "Contents",
   "toc_cell": false,
   "toc_position": {},
   "toc_section_display": true,
   "toc_window_display": true
  },
  "varInspector": {
   "cols": {
    "lenName": 16,
    "lenType": 16,
    "lenVar": 40
   },
   "kernels_config": {
    "python": {
     "delete_cmd_postfix": "",
     "delete_cmd_prefix": "del ",
     "library": "var_list.py",
     "varRefreshCmd": "print(var_dic_list())"
    },
    "r": {
     "delete_cmd_postfix": ") ",
     "delete_cmd_prefix": "rm(",
     "library": "var_list.r",
     "varRefreshCmd": "cat(var_dic_list()) "
    }
   },
   "types_to_exclude": [
    "module",
    "function",
    "builtin_function_or_method",
    "instance",
    "_Feature"
   ],
   "window_display": false
  }
 },
 "nbformat": 4,
 "nbformat_minor": 4
}
